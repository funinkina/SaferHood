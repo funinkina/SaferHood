{
 "cells": [
  {
   "cell_type": "code",
   "execution_count": 1,
   "id": "11799da1",
   "metadata": {},
   "outputs": [],
   "source": [
    "import pandas as pd"
   ]
  },
  {
   "cell_type": "code",
   "execution_count": 6,
   "id": "4fe5bdd2",
   "metadata": {},
   "outputs": [],
   "source": [
    "df = pd.read_csv('repeat_offenders.csv')"
   ]
  },
  {
   "cell_type": "code",
   "execution_count": 7,
   "id": "d5b558dd",
   "metadata": {},
   "outputs": [],
   "source": [
    "columns_to_drop = ['PermanentAddress', 'DOB', 'Offense_Count_x', 'Offense_Count_y', 'PermanentCity']\n",
    "df = df.drop(columns=columns_to_drop)"
   ]
  },
  {
   "cell_type": "code",
   "execution_count": 9,
   "id": "79e3b1fc",
   "metadata": {},
   "outputs": [],
   "source": [
    "# Convert DataFrame to CSV\n",
    "df.to_csv('modified_repeat_offenders.csv', index=False)\n"
   ]
  },
  {
   "cell_type": "code",
   "execution_count": 10,
   "id": "b8e675cf",
   "metadata": {},
   "outputs": [],
   "source": [
    "df = df.dropna()\n"
   ]
  },
  {
   "cell_type": "code",
   "execution_count": 12,
   "id": "95eb437c",
   "metadata": {},
   "outputs": [],
   "source": [
    "\n",
    "# Convert DataFrame to CSV\n",
    "df.to_csv('modified_repeat_offenders2.csv', index=False)"
   ]
  },
  {
   "cell_type": "code",
   "execution_count": 13,
   "id": "43d7619b",
   "metadata": {},
   "outputs": [],
   "source": [
    "# Find the top 20 values in the 'District_Name' column\n",
    "top_districts = df['District_Name'].value_counts().nlargest(20).index\n",
    "\n",
    "# Filter the DataFrame to keep only the rows where 'District_Name' is in the top 20 values\n",
    "df = df[df['District_Name'].isin(top_districts)]\n",
    "\n",
    "# Convert DataFrame to CSV\n",
    "df.to_csv('modified_repeat_offenders3.csv', index=False)\n"
   ]
  },
  {
   "cell_type": "code",
   "execution_count": 14,
   "id": "637c2eeb",
   "metadata": {},
   "outputs": [],
   "source": [
    "# Drop rows with 'Offense_Count' < 10\n",
    "df = df[df['Offense_Count'] >= 10]\n",
    "\n",
    "# Convert DataFrame to CSV\n",
    "df.to_csv('modified_repeat_offenders4.csv', index=False)\n"
   ]
  },
  {
   "cell_type": "code",
   "execution_count": 17,
   "id": "e89c7139",
   "metadata": {},
   "outputs": [],
   "source": [
    "# Sort rows according to District_Name and Offense_Count\n",
    "df_sorted = df.sort_values(by=['District_Name', 'Offense_Count'], ascending=[True, False])\n",
    "\n",
    "# Convert DataFrame to CSV\n",
    "df_sorted.to_csv('sorted_repeat_offenders.csv', index=False)\n"
   ]
  },
  {
   "cell_type": "code",
   "execution_count": 18,
   "id": "910d6356",
   "metadata": {},
   "outputs": [],
   "source": [
    "# Define a function to select top 50 rows within each group\n",
    "def select_top_50(group):\n",
    "    return group.nlargest(50, 'Offense_Count')\n",
    "\n",
    "# Apply the function to each group within District_Name and concatenate the results\n",
    "df_top_50 = df_sorted.groupby('District_Name', group_keys=False).apply(select_top_50)\n",
    "\n",
    "# Convert DataFrame to CSV\n",
    "df_top_50.to_csv('top_50_repeat_offenders.csv', index=False)\n"
   ]
  },
  {
   "cell_type": "code",
   "execution_count": 19,
   "id": "8ba95f21",
   "metadata": {},
   "outputs": [],
   "source": [
    "# Group DataFrame by 'District_Name' and convert each group to dictionary\n",
    "district_dict = df_top_50.groupby('District_Name').apply(lambda x: x.drop(columns=['District_Name']).to_dict(orient='records')).to_dict()\n",
    "\n",
    "import json\n",
    "\n",
    "# Save the dictionary to a JSON file\n",
    "with open('repeat_offenders.json', 'w') as json_file:\n",
    "    json.dump(district_dict, json_file, indent=4)\n"
   ]
  },
  {
   "cell_type": "code",
   "execution_count": null,
   "id": "2e297fb3",
   "metadata": {},
   "outputs": [],
   "source": []
  }
 ],
 "metadata": {
  "kernelspec": {
   "display_name": "Python 3 (ipykernel)",
   "language": "python",
   "name": "python3"
  },
  "language_info": {
   "codemirror_mode": {
    "name": "ipython",
    "version": 3
   },
   "file_extension": ".py",
   "mimetype": "text/x-python",
   "name": "python",
   "nbconvert_exporter": "python",
   "pygments_lexer": "ipython3",
   "version": "3.10.9"
  }
 },
 "nbformat": 4,
 "nbformat_minor": 5
}
